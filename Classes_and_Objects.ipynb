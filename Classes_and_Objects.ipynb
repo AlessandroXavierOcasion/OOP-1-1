{
  "nbformat": 4,
  "nbformat_minor": 0,
  "metadata": {
    "colab": {
      "name": "Classes and Objects.ipynb",
      "provenance": [],
      "include_colab_link": true
    },
    "kernelspec": {
      "name": "python3",
      "display_name": "Python 3"
    },
    "language_info": {
      "name": "python"
    }
  },
  "cells": [
    {
      "cell_type": "markdown",
      "metadata": {
        "id": "view-in-github",
        "colab_type": "text"
      },
      "source": [
        "<a href=\"https://colab.research.google.com/github/AlessandroXavierOcasion/OOP-1-1/blob/main/Classes_and_Objects.ipynb\" target=\"_parent\"><img src=\"https://colab.research.google.com/assets/colab-badge.svg\" alt=\"Open In Colab\"/></a>"
      ]
    },
    {
      "cell_type": "markdown",
      "source": [
        "Application 2 - Write a python program that displays the fullname of the students, student number, age , course, and school. Create a class name OOp_1_1 AND create Info(),method to display the information of the student with fullname, student_no, age, course, school as attributes\n"
      ],
      "metadata": {
        "id": "qkdJWeLD1pXx"
      }
    },
    {
      "cell_type": "code",
      "execution_count": 19,
      "metadata": {
        "colab": {
          "base_uri": "https://localhost:8080/"
        },
        "id": "BZ06Me4V0Rsc",
        "outputId": "4328cb28-9094-40a5-8708-d2527a40e874"
      },
      "outputs": [
        {
          "output_type": "stream",
          "name": "stdout",
          "text": [
            "Ny name is Alessandro Xavier T. Ocasion\n",
            "My Student Number is 202\n",
            "My age is 19 years old\n",
            "My course is BSCpE\n",
            "My school is CvSU\n"
          ]
        }
      ],
      "source": [
        "class OOP_1_1:\n",
        "  def __init__ (self,fullname,student_no,age,course,school):\n",
        "    self.fullname = fullname\n",
        "    self.student_no = student_no\n",
        "    self.age = age\n",
        "    self.course = course\n",
        "    self.school = school\n",
        "\n",
        "  def Info(self):\n",
        "    #print(self.fullname,self.student_no,self.age,self.course,self.school)\n",
        "    print(\"Ny name is\" + \" \" + self.fullname)\n",
        "    print(\"My Student Number is\",self.student_no)\n",
        "    print(\"My age is\",self.age,\"years old\")\n",
        "    print(\"My course is\",self.course)\n",
        "    print(\"My school is\",self.school)\n",
        "\n",
        "student = OOP_1_1(\"Alessandro Xavier T. Ocasion\",202,19,\"BSCpE\",\"CvSU\")\n",
        "student.Info()"
      ]
    },
    {
      "cell_type": "markdown",
      "source": [
        "Application 3 - Define an Area() method of the Circle class that calculates the circle's area. Define a Perimeter() method of the class which allows you to calculate the perimeter of the circle "
      ],
      "metadata": {
        "id": "AVilEPW27IyV"
      }
    },
    {
      "cell_type": "code",
      "source": [
        ""
      ],
      "metadata": {
        "id": "HHDCWwkM7IG7"
      },
      "execution_count": null,
      "outputs": []
    }
  ]
}