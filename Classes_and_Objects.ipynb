{
  "nbformat": 4,
  "nbformat_minor": 0,
  "metadata": {
    "colab": {
      "name": "Classes and Objects.ipynb",
      "provenance": [],
      "authorship_tag": "ABX9TyOI1Mv0ETMZ+aPGc6yaSkO1",
      "include_colab_link": true
    },
    "kernelspec": {
      "name": "python3",
      "display_name": "Python 3"
    },
    "language_info": {
      "name": "python"
    }
  },
  "cells": [
    {
      "cell_type": "markdown",
      "metadata": {
        "id": "view-in-github",
        "colab_type": "text"
      },
      "source": [
        "<a href=\"https://colab.research.google.com/github/AlessandroXavierOcasion/OOP-1-1/blob/main/Classes_and_Objects.ipynb\" target=\"_parent\"><img src=\"https://colab.research.google.com/assets/colab-badge.svg\" alt=\"Open In Colab\"/></a>"
      ]
    },
    {
      "cell_type": "markdown",
      "source": [
        "1. Define an Area() method of the class that calculates the circle’s area."
      ],
      "metadata": {
        "id": "yvRpemLZ3pJ_"
      }
    },
    {
      "cell_type": "code",
      "execution_count": 7,
      "metadata": {
        "colab": {
          "base_uri": "https://localhost:8080/"
        },
        "id": "okpk2rYd3lqk",
        "outputId": "c2369960-80c2-4752-9875-6614b72c8b1a"
      },
      "outputs": [
        {
          "output_type": "stream",
          "name": "stdout",
          "text": [
            "Input radius: 4\n",
            "The area of a cirle is 50.24\n"
          ]
        }
      ],
      "source": [
        "class Area:                   \n",
        "  def __init__(self, radius):   \n",
        "    self.radius = radius\n",
        "\n",
        "  def Area(self):         \n",
        "    return (3.14 *(self.radius * self.radius))\n",
        "\n",
        "input_area = float(input(\"Input radius: \"))\n",
        "radius1 = Area(input_area)  \n",
        "\n",
        "print(\"The area of a cirle is\",round(radius1.Area(),3))"
      ]
    },
    {
      "cell_type": "markdown",
      "source": [
        "2. Define a Perimeter() method of the class which allows you to calculate the perimeter of the circle."
      ],
      "metadata": {
        "id": "IyAYxxOn7Lvk"
      }
    },
    {
      "cell_type": "code",
      "source": [
        "class Perimeter:\n",
        "  def __init__(self, radius):\n",
        "    self.radius = radius\n",
        "\n",
        "  def Perimeter(self):\n",
        "    return (2 * 3.14 * self.radius)\n",
        "\n",
        "input_perimeter = float(input(\"Input radius: \"))\n",
        "radius1 = Perimeter(input_perimeter)\n",
        "print(\"The perimeter of circle is\",round(radius1.Perimeter(),2))"
      ],
      "metadata": {
        "colab": {
          "base_uri": "https://localhost:8080/"
        },
        "id": "8bOA76tf7RH5",
        "outputId": "59cb6805-e371-43fb-f9e5-9ee94bd96981"
      },
      "execution_count": 10,
      "outputs": [
        {
          "output_type": "stream",
          "name": "stdout",
          "text": [
            "Input radius: 12\n",
            "The perimeter of circle is 75.36\n"
          ]
        }
      ]
    },
    {
      "cell_type": "code",
      "source": [
        ""
      ],
      "metadata": {
        "id": "l_dW2vvO8qFE"
      },
      "execution_count": null,
      "outputs": []
    }
  ]
}