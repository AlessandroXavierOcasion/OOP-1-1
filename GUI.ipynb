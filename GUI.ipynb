{
  "nbformat": 4,
  "nbformat_minor": 0,
  "metadata": {
    "colab": {
      "name": "GUI.ipynb",
      "provenance": [],
      "authorship_tag": "ABX9TyOWVcOMEHTS4e2LloWlzbSx",
      "include_colab_link": true
    },
    "kernelspec": {
      "name": "python3",
      "display_name": "Python 3"
    },
    "language_info": {
      "name": "python"
    }
  },
  "cells": [
    {
      "cell_type": "markdown",
      "metadata": {
        "id": "view-in-github",
        "colab_type": "text"
      },
      "source": [
        "<a href=\"https://colab.research.google.com/github/AlessandroXavierOcasion/OOP-1-1/blob/main/GUI.ipynb\" target=\"_parent\"><img src=\"https://colab.research.google.com/assets/colab-badge.svg\" alt=\"Open In Colab\"/></a>"
      ]
    },
    {
      "cell_type": "markdown",
      "source": [
        "Student Grades in OOP subject"
      ],
      "metadata": {
        "id": "6cthOW4dUiBj"
      }
    },
    {
      "cell_type": "code",
      "source": [
        "#@title Students' Grade in OOP\n",
        "student_name = \"Aleddandro Xavier T. Ocasion\" #param{type: \"string\"}\n",
        "prelim = 95 #@param{type: \"number\"}\n",
        "midterm = 96 #@param{type: \"number\"}\n",
        "final = 97 #@param{type: \"number\"}\n",
        "semestral_grade = ((prelim + midterm + final)/3)\n",
        "\n",
        "print(\"Grades of Student:\", student_name)\n",
        "print(\"Prelim Grade:\", prelim)\n",
        "print(\"Midterm Grade:\", midterm)\n",
        "print(\"Final Grade:\", final)\n",
        "print(\"Average:\", (round(semestral_grade,2)))"
      ],
      "metadata": {
        "id": "agRgzdD9UiRT"
      },
      "execution_count": null,
      "outputs": []
    },
    {
      "cell_type": "code",
      "source": [
        "Gender = \"Male\" #@param [\"Male\",\"Female\"] {type:\"raw\"}\n",
        "Birthdate = \"2003-02-20\" #@param {type:\"date\"}\n",
        "\n",
        "print(\"My gender is\", Gender)\n",
        "print(\"My Birthday is\",Birthdate)"
      ],
      "metadata": {
        "id": "bsmRZigAUsTA"
      },
      "execution_count": null,
      "outputs": []
    }
  ]
}