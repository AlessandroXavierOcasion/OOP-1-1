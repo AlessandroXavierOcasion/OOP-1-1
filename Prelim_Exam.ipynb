{
  "nbformat": 4,
  "nbformat_minor": 0,
  "metadata": {
    "colab": {
      "name": "Prelim Exam.ipynb",
      "provenance": [],
      "authorship_tag": "ABX9TyNGgBbhRFvpyEdttJlfwdmj",
      "include_colab_link": true
    },
    "kernelspec": {
      "name": "python3",
      "display_name": "Python 3"
    },
    "language_info": {
      "name": "python"
    }
  },
  "cells": [
    {
      "cell_type": "markdown",
      "metadata": {
        "id": "view-in-github",
        "colab_type": "text"
      },
      "source": [
        "<a href=\"https://colab.research.google.com/github/AlessandroXavierOcasion/OOP-1-1/blob/main/Prelim_Exam.ipynb\" target=\"_parent\"><img src=\"https://colab.research.google.com/assets/colab-badge.svg\" alt=\"Open In Colab\"/></a>"
      ]
    },
    {
      "cell_type": "code",
      "execution_count": 3,
      "metadata": {
        "colab": {
          "base_uri": "https://localhost:8080/"
        },
        "id": "dXCI7IQG8wrd",
        "outputId": "fd0a02bf-eebf-41f8-9751-fd8d347358aa"
      },
      "outputs": [
        {
          "output_type": "stream",
          "name": "stdout",
          "text": [
            "My name is Alessandro Xavier T. Ocasion . My student number is 202101502 . My age is 19 years old and I am studying in Cavite State University taking BS in Computer Engineering .\n"
          ]
        }
      ],
      "source": [
        "class Student:\n",
        "  def __init__(self, Name, Student_No, Age, School, Course):\n",
        "    self.Name = Name\n",
        "    self.Student_No = Student_No\n",
        "    self.Age = Age\n",
        "    self.School = School\n",
        "    self.Course = Course\n",
        "\n",
        "  def Info(self):\n",
        "    print(\"My name is\",self.Name,\".\",\"My student number is\",self.Student_No,\".\",\"My age is\",self.Age,\"and I am studying in\",self.School,\"taking\",self.Course,\".\")\n",
        "\n",
        "Myself = Student(\"Alessandro Xavier T. Ocasion\",202101502,\"19 years old\",\"Cavite State University\",\"BS in Computer Engineering\")\n",
        "Myself.Info()"
      ]
    }
  ]
}