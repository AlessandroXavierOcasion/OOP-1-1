{
  "nbformat": 4,
  "nbformat_minor": 0,
  "metadata": {
    "colab": {
      "name": "Activity 3.ipynb",
      "provenance": [],
      "include_colab_link": true
    },
    "kernelspec": {
      "name": "python3",
      "display_name": "Python 3"
    },
    "language_info": {
      "name": "python"
    }
  },
  "cells": [
    {
      "cell_type": "markdown",
      "metadata": {
        "id": "view-in-github",
        "colab_type": "text"
      },
      "source": [
        "<a href=\"https://colab.research.google.com/github/AlessandroXavierOcasion/OOP-1-1/blob/main/Activity_3.ipynb\" target=\"_parent\"><img src=\"https://colab.research.google.com/assets/colab-badge.svg\" alt=\"Open In Colab\"/></a>"
      ]
    },
    {
      "cell_type": "markdown",
      "source": [
        "Application 1\n",
        "1. Create a Python program that displays the name of three students (Student 1, Student 2, Student 3) and their term grades\n",
        "2. Create a class name Person and attributes - std1,std2,std3,prs,mid,fin\n",
        "3. Compute the average of each term grade using Grade() method\n",
        "4. Information about student's grades must be hidden from others"
      ],
      "metadata": {
        "id": "BU6WkSb7RBYo"
      }
    },
    {
      "cell_type": "code",
      "source": [
        "class data:\n",
        "  def __init__(self,firstname,lastname,prelim,midterm,final):\n",
        "   self.firstname = firstname\n",
        "   self.lastname = lastname\n",
        "   self.prelim = prelim\n",
        "   self.midterm = midterm\n",
        "   self.final = final\n",
        "\n",
        "  def printname(self):\n",
        "    print(self.firstname, self.lastname)\n",
        "\n",
        "class stud1(data):\n",
        "  def average(self):\n",
        "    return ((self.prelim + self.midterm + self.final)/3)\n",
        "\n",
        "\n",
        "fname_input1 = str(input(\"Enter Your First Name: \"))\n",
        "lname_input1 = str(input(\"Enter Your Last Name: \"))\n",
        "prelims_input1 = float(input(\"Prelims:\"))\n",
        "midterms_input1 = float(input(\"Midterm:\"))\n",
        "finals_input1 = float(input(\"Finals:\"))\n",
        "\n",
        "student1 = stud1(fname_input1, lname_input1,prelims_input1, midterms_input1, finals_input1)\n",
        "print(\"\\n\")\n",
        "student1.printname()\n",
        "print(\"Average:\" , round(student1.average(),2), \"\\n\")\n",
        "\n",
        "\n",
        "\n",
        "class stud2(data):\n",
        "  def average(self):\n",
        "    return ((self.prelim + self.midterm + self.final)/3)\n",
        "\n",
        "\n",
        "fname_input2 = str(input(\"Enter Your First Name: \"))\n",
        "lname_input2 = str(input(\"Enter Your Last Name: \"))\n",
        "prelims_input2 = float(input(\"Prelims:\"))\n",
        "midterms_input2 = float(input(\"Midterm:\"))\n",
        "finals_input2 = float(input(\"Finals:\"))\n",
        "\n",
        "student2 = stud2(fname_input2, lname_input2,prelims_input2, midterms_input2, finals_input2)\n",
        "print(\"\\n\")\n",
        "student2.printname()\n",
        "print(\"Average:\" , round(student2.average(),2), \"\\n\")\n",
        "\n",
        "\n",
        "class stud3(data):\n",
        "  def average(self):\n",
        "    return ((self.prelim + self.midterm + self.final)/3)\n",
        "\n",
        "\n",
        "fname_input3 = str(input(\"Enter Your First Name: \"))\n",
        "lname_input3 = str(input(\"Enter Your Last Name: \"))\n",
        "prelims_input3 = float(input(\"Prelims:\"))\n",
        "midterms_input3 = float(input(\"Midterm:\"))\n",
        "finals_input3 = float(input(\"Finals:\"))\n",
        "\n",
        "student3 = stud3(fname_input3, lname_input3,prelims_input3, midterms_input3, finals_input3)\n",
        "print(\"\\n\")\n",
        "student3.printname()\n",
        "print(\"Average:\" , round(student3.average(),2), \"\\n\")"
      ],
      "metadata": {
        "colab": {
          "base_uri": "https://localhost:8080/"
        },
        "id": "9tc56azdRfde",
        "outputId": "64263cfb-40a1-4350-9a20-dded8adc7cbe"
      },
      "execution_count": 15,
      "outputs": [
        {
          "output_type": "stream",
          "name": "stdout",
          "text": [
            "Enter Your First Name: Alessandro Xavier\n",
            "Enter Your Last Name: Ocasion\n",
            "Prelims:95\n",
            "Midterm:92\n",
            "Finals:97\n",
            "\n",
            "\n",
            "Alessandro Xavier Ocasion\n",
            "Average: 94.67 \n",
            "\n",
            "Enter Your First Name: Xavier\n",
            "Enter Your Last Name: Ocasion\n",
            "Prelims:79\n",
            "Midterm:95\n",
            "Finals:99\n",
            "\n",
            "\n",
            "Xavier Ocasion\n",
            "Average: 91.0 \n",
            "\n",
            "Enter Your First Name: Alesdro\n",
            "Enter Your Last Name: Ocas\n",
            "Prelims:90\n",
            "Midterm:84\n",
            "Finals:97\n",
            "\n",
            "\n",
            "Alesdro Ocas\n",
            "Average: 90.33 \n",
            "\n"
          ]
        }
      ]
    }
  ]
}